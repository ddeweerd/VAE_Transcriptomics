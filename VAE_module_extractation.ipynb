{
  "nbformat": 4,
  "nbformat_minor": 0,
  "metadata": {
    "colab": {
      "provenance": [],
      "include_colab_link": true
    },
    "kernelspec": {
      "name": "ir",
      "display_name": "R"
    },
    "language_info": {
      "name": "R"
    }
  },
  "cells": [
    {
      "cell_type": "markdown",
      "metadata": {
        "id": "view-in-github",
        "colab_type": "text"
      },
      "source": [
        "<a href=\"https://colab.research.google.com/github/ddeweerd/VAE_Transcriptomics/blob/main/VAE_module_extractation.ipynb\" target=\"_parent\"><img src=\"https://colab.research.google.com/assets/colab-badge.svg\" alt=\"Open In Colab\"/></a>"
      ]
    },
    {
      "cell_type": "markdown",
      "source": [
        "\n",
        "# Introduction\n",
        "Welcome to the code for extracting gene modules based on signal extraction from multifactorial data. In this context, we introduce the Variational Autoencoder (VAE) method, as outlined in the work by de Weerd et al. (2023). The VAE offers a multi-scale representation capable of encoding cellular processes, encompassing factors from cell types to gene-gene interactions.\n",
        "\n",
        "In the study by de Weerd et al., we harnessed the power of this VAE to predict gene expression changes in 25 independent disease datasets. Leveraging the learned healthy representations within the VAE, we successfully extracted and decoded disease-specific signals residing within the latent space. As a result, we achieved substantial enrichment of genes directly associated with the diseases under investigation.\n",
        "\n",
        "This notebook also introduces the accompanying R package, VAEanalysis, along with illustrative code that showcases how to extract, amplify, and decode disease signals from independent case-control datasets.\n",
        "\n"
      ],
      "metadata": {
        "id": "xzoM9wLMlUwA"
      }
    },
    {
      "cell_type": "markdown",
      "source": [
        "First, we install the R package from GitHub. We are also using the dplyr and keras packages."
      ],
      "metadata": {
        "id": "K948pEyHRPLI"
      }
    },
    {
      "cell_type": "code",
      "execution_count": null,
      "metadata": {
        "id": "KtTGy7BIlQCQ",
        "colab": {
          "base_uri": "https://localhost:8080/"
        },
        "outputId": "f8bdb97b-e5d1-404c-8430-064d0731e3bc"
      },
      "outputs": [
        {
          "output_type": "stream",
          "name": "stderr",
          "text": [
            "Downloading GitHub repo ddeweerd/VAEanalysis@HEAD\n",
            "\n"
          ]
        },
        {
          "output_type": "stream",
          "name": "stdout",
          "text": [
            "png         (NA -> 0.1-8 ) [CRAN]\n",
            "here        (NA -> 1.0.1 ) [CRAN]\n",
            "RcppTOML    (NA -> 0.2.2 ) [CRAN]\n",
            "reticulate  (NA -> 1.39.0) [CRAN]\n",
            "config      (NA -> 0.3.2 ) [CRAN]\n",
            "tfautograph (NA -> 0.3.2 ) [CRAN]\n",
            "tfruns      (NA -> 1.5.3 ) [CRAN]\n",
            "zeallot     (NA -> 0.1.0 ) [CRAN]\n",
            "tensorflow  (NA -> 2.16.0) [CRAN]\n",
            "keras       (NA -> 2.15.0) [CRAN]\n"
          ]
        },
        {
          "output_type": "stream",
          "name": "stderr",
          "text": [
            "Installing 10 packages: png, here, RcppTOML, reticulate, config, tfautograph, tfruns, zeallot, tensorflow, keras\n",
            "\n",
            "Installing packages into ‘/usr/local/lib/R/site-library’\n",
            "(as ‘lib’ is unspecified)\n",
            "\n"
          ]
        },
        {
          "output_type": "stream",
          "name": "stdout",
          "text": [
            "\u001b[36m──\u001b[39m \u001b[36mR CMD build\u001b[39m \u001b[36m─────────────────────────────────────────────────────────────────\u001b[39m\n",
            "* checking for file ‘/tmp/RtmpAgw9z1/remotes13a520d3655/ddeweerd-VAEanalysis-248b9cb/DESCRIPTION’ ... OK\n",
            "* preparing ‘VAEanalysis’:\n",
            "* checking DESCRIPTION meta-information ... OK\n",
            "* checking for LF line-endings in source and make files and shell scripts\n",
            "* checking for empty or unneeded directories\n",
            "* building ‘VAEanalysis_0.1.0.tar.gz’\n",
            "\n"
          ]
        },
        {
          "output_type": "stream",
          "name": "stderr",
          "text": [
            "Installing package into ‘/usr/local/lib/R/site-library’\n",
            "(as ‘lib’ is unspecified)\n",
            "\n"
          ]
        }
      ],
      "source": [
        "devtools::install_github(\"ddeweerd/VAEanalysis\", force=TRUE)\n",
        "\n"
      ]
    },
    {
      "cell_type": "code",
      "source": [
        "library(VAEanalysis)\n",
        "library(dplyr)\n",
        "library(keras)"
      ],
      "metadata": {
        "id": "Eq8DulvtzyxL"
      },
      "execution_count": null,
      "outputs": []
    },
    {
      "cell_type": "markdown",
      "source": [
        "First, we have a look at the transcriptomics data. The model assumes each row of the input matrix to correspond to a specific gene, with the specific gene names stored in the genename variable. The data should be a matrix with gene counts normalized such that ln(count + 1).\n",
        "\n",
        "Let's look at the data and gene names. In this example, we look at the gene expression data from active leasons in multiple sclerosis (GSE138614, Elkjaer et al., 2019)."
      ],
      "metadata": {
        "id": "sRB7hREMlxHH"
      }
    },
    {
      "cell_type": "code",
      "source": [
        "patient_counts[1:10, 1:10] # Show some of the data\n",
        "genenames[1:10] # And the corresponding gene names"
      ],
      "metadata": {
        "id": "942PvkSEXKc_"
      },
      "execution_count": null,
      "outputs": []
    },
    {
      "cell_type": "markdown",
      "source": [
        "Next, we load the VAE model from de Weerd et al. Since we are interested in the latent space to extract the disease signal, the encoder and the decoder are loaded separately."
      ],
      "metadata": {
        "id": "A1kAKaZYWXUn"
      }
    },
    {
      "cell_type": "code",
      "source": [
        "VAE_builder <- reticulate::import_from_path(module = \"VAE_builder\", path = system.file(package = \"VAEanalysis\"))\n",
        "utils_VAE <- reticulate::import_from_path(module = \"utils_VAE\", path = system.file(package = \"VAEanalysis\"))"
      ],
      "metadata": {
        "id": "QbGgyPo-om17"
      },
      "execution_count": null,
      "outputs": []
    },
    {
      "cell_type": "code",
      "source": [
        "encoder <- keras::load_model_hdf5(system.file(\"extdata\", \"encoder.h5\", package = \"VAEanalysis\"))\n",
        "decoder <- keras::load_model_hdf5(system.file(\"extdata\", \"decoder.h5\", package = \"VAEanalysis\"))\n"
      ],
      "metadata": {
        "id": "qHZn7rjNZndJ"
      },
      "execution_count": null,
      "outputs": []
    },
    {
      "cell_type": "markdown",
      "source": [
        "To extract the disease vector, we need to compress the patient and control data into the latent space of the VAE. The mean of the latent control vectors is then subtracted from the respective vector of the patients, as denoted by Equation (1) in the manuscript. We use the function get_condition_latent_vector to get this disease vector.\n",
        "\n"
      ],
      "metadata": {
        "id": "z7bSPhOHlTfe"
      }
    },
    {
      "cell_type": "code",
      "source": [
        "latent_vector <- get_condition_latent_vector(patient_counts = patient_counts,\n",
        "                                             control_counts = control_counts,\n",
        "                                             encoder)"
      ],
      "metadata": {
        "id": "PQ4z2FdxlnCW"
      },
      "execution_count": null,
      "outputs": []
    },
    {
      "cell_type": "markdown",
      "source": [
        "By increasing the disease vector in the latent space by a factor eta (default value 3), we can decompress the disease vector using the decoder, as described in Equation (2) in de Weerd et al. 2023. Furthermore, to compare the disease latent vector with a background, we generate and decode 1,000 random vectors. The genes of the decompressed disease vector are compared with the random background using a ranking (as described in Equation (3) in de Weerd et al.). These functionalities are embedded into the get_gene_ranks function."
      ],
      "metadata": {
        "id": "WpWdjDcwlT7N"
      }
    },
    {
      "cell_type": "code",
      "source": [
        "ranks <- get_gene_ranks(latent_vector = latent_vector,\n",
        "                                 boost_factor = 3,\n",
        "                                 decoder = decoder,\n",
        "                                 n_comparison = 1000)"
      ],
      "metadata": {
        "id": "MN2swSrfmL5L"
      },
      "execution_count": null,
      "outputs": []
    },
    {
      "cell_type": "markdown",
      "source": [
        "Lastly, we can extract the top genes of the ranking. These genes are to be considered the disease module, and can serve as a basis for further analysis such as the extraction of the biggest connected component."
      ],
      "metadata": {
        "id": "D2btJ6LlnPz8"
      }
    },
    {
      "cell_type": "code",
      "source": [
        "genenames[ranks < 50] %>% as.data.frame\n"
      ],
      "metadata": {
        "id": "xHXzw75WnaIx"
      },
      "execution_count": null,
      "outputs": []
    }
  ]
}